{
  "cells": [
    {
      "cell_type": "code",
      "source": [
        "import os\n",
        "runningFromColab = False\n",
        "if 'CGROUP_MEMORY_EVENTS' in os.environ and 'colab' in os.environ['CGROUP_MEMORY_EVENTS']:\n",
        "  runningFromColab = True"
      ],
      "metadata": {
        "id": "iL10kckWVsh1"
      },
      "execution_count": 1,
      "outputs": []
    },
    {
      "cell_type": "code",
      "source": [
        "if runningFromColab:\n",
        "  from google.colab import drive\n",
        "  drive.mount('/content/drive')"
      ],
      "metadata": {
        "id": "sTIJGz2iHMO2",
        "outputId": "326dfca4-9445-4816-911e-b765a922e293",
        "colab": {
          "base_uri": "https://localhost:8080/"
        }
      },
      "execution_count": 2,
      "outputs": [
        {
          "output_type": "stream",
          "name": "stdout",
          "text": [
            "Drive already mounted at /content/drive; to attempt to forcibly remount, call drive.mount(\"/content/drive\", force_remount=True).\n"
          ]
        }
      ]
    },
    {
      "cell_type": "code",
      "source": [
        "if runningFromColab:\n",
        "  %cd /content/drive/MyDrive/ColabProjects"
      ],
      "metadata": {
        "id": "of0Zg47kK5c6",
        "outputId": "63bb8d76-b03d-4416-d307-7316ca5bb0fc",
        "colab": {
          "base_uri": "https://localhost:8080/"
        }
      },
      "execution_count": 3,
      "outputs": [
        {
          "output_type": "stream",
          "name": "stdout",
          "text": [
            "/content/drive/MyDrive/ColabProjects\n"
          ]
        }
      ]
    },
    {
      "cell_type": "code",
      "source": [
        "if runningFromColab:\n",
        "  !git clone https://github.com/OdyAsh/nlp-image-captioning.git"
      ],
      "metadata": {
        "id": "tzrpiAjyLPrb",
        "outputId": "7ee9cf1d-4a35-4374-fbf3-d226e19ffc11",
        "colab": {
          "base_uri": "https://localhost:8080/"
        }
      },
      "execution_count": 13,
      "outputs": [
        {
          "output_type": "stream",
          "name": "stdout",
          "text": [
            "fatal: destination path 'nlp-image-captioning' already exists and is not an empty directory.\n"
          ]
        }
      ]
    },
    {
      "cell_type": "code",
      "source": [
        "if runningFromColab:\n",
        "  %cd /content/drive/MyDrive/ColabProjects/nlp-image-captioning"
      ],
      "metadata": {
        "id": "pgJWSx0ENHfi",
        "outputId": "b932304f-617a-4fa5-b586-011925faa17b",
        "colab": {
          "base_uri": "https://localhost:8080/"
        }
      },
      "execution_count": 4,
      "outputs": [
        {
          "output_type": "stream",
          "name": "stdout",
          "text": [
            "/content/drive/MyDrive/ColabProjects/nlp-image-captioning\n"
          ]
        }
      ]
    },
    {
      "cell_type": "code",
      "source": [
        "if runningFromColab:\n",
        "  !git pull"
      ],
      "metadata": {
        "id": "oggUYhWqPZMX",
        "outputId": "1e4791d0-9831-47ab-a2ed-5cd18121ae74",
        "colab": {
          "base_uri": "https://localhost:8080/"
        }
      },
      "execution_count": 14,
      "outputs": [
        {
          "output_type": "stream",
          "name": "stdout",
          "text": [
            "Already up to date.\n"
          ]
        }
      ]
    },
    {
      "cell_type": "code",
      "source": [
        "if runningFromColab:\n",
        "  try:\n",
        "    import condacolab\n",
        "    condacolab.install()\n",
        "  except:\n",
        "    !pip install -q condacolab\n",
        "    import condacolab\n",
        "    condacolab.install()\n",
        "\n",
        "# now restart the kernel"
      ],
      "metadata": {
        "id": "oLTA8a3-Q7ph",
        "outputId": "bef4bb2c-d71a-49bb-f060-0e352def13ab",
        "colab": {
          "base_uri": "https://localhost:8080/"
        }
      },
      "execution_count": 10,
      "outputs": [
        {
          "output_type": "stream",
          "name": "stdout",
          "text": [
            "⏬ Downloading https://github.com/jaimergp/miniforge/releases/latest/download/Mambaforge-colab-Linux-x86_64.sh...\n",
            "📦 Installing...\n",
            "📌 Adjusting configuration...\n",
            "🩹 Patching environment...\n",
            "⏲ Done in 0:00:26\n",
            "🔁 Restarting kernel...\n"
          ]
        }
      ]
    },
    {
      "cell_type": "code",
      "source": [
        "if runningFromColab:\n",
        "  !conda env create -f environment.yml\n",
        "  # !conda update conda -y -q\n",
        "  # !source /usr/local/etc/profile.d/conda.sh\n",
        "  # !conda init \n",
        "  # !conda install -n root _license -y -q\n",
        "  # !source activate myenv"
      ],
      "metadata": {
        "id": "kW1oaGvGMsvN",
        "outputId": "8722ca24-ba6c-42ca-8be3-d8c103cd3897",
        "colab": {
          "base_uri": "https://localhost:8080/"
        }
      },
      "execution_count": 13,
      "outputs": [
        {
          "output_type": "stream",
          "name": "stdout",
          "text": [
            "\n",
            "CondaValueError: could not parse 'name: .conda' in: environment.yml\n",
            "\n"
          ]
        }
      ]
    },
    {
      "cell_type": "code",
      "source": [
        "if runningFromColab:\n",
        "  import sys\n",
        "  sys.path.insert(0, '/usr/local/bin/conda')"
      ],
      "metadata": {
        "id": "7zUUVjcRLxjd"
      },
      "execution_count": null,
      "outputs": []
    },
    {
      "cell_type": "code",
      "execution_count": null,
      "metadata": {
        "id": "gjH1mCsmHKZR"
      },
      "outputs": [],
      "source": []
    }
  ],
  "metadata": {
    "kernelspec": {
      "display_name": "Python 3",
      "language": "python",
      "name": "python3"
    },
    "language_info": {
      "codemirror_mode": {
        "name": "ipython",
        "version": 3
      },
      "file_extension": ".py",
      "mimetype": "text/x-python",
      "name": "python",
      "nbconvert_exporter": "python",
      "pygments_lexer": "ipython3",
      "version": "3.9.16"
    },
    "orig_nbformat": 4,
    "vscode": {
      "interpreter": {
        "hash": "c7cdde67bd1df58aee8e05336b4c9e41dfb37650659bf34d4c10242d0898ac5a"
      }
    },
    "colab": {
      "provenance": []
    }
  },
  "nbformat": 4,
  "nbformat_minor": 0
}