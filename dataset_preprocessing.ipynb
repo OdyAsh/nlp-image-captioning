{
  "cells": [
    {
      "cell_type": "code",
      "execution_count": null,
      "metadata": {
        "id": "bCRrkjwwHKZO"
      },
      "outputs": [],
      "source": [
        "from convert_envy_to_reqtxt import convert_environment_yaml_to_requirements_txt\n",
        "convert_environment_yaml_to_requirements_txt()"
      ]
    },
    {
      "cell_type": "code",
      "source": [
        "from google.colab import drive\n",
        "drive.mount('/content/drive')"
      ],
      "metadata": {
        "id": "sTIJGz2iHMO2",
        "outputId": "dd34b1bf-67e4-46b1-ef60-70c812b5af39",
        "colab": {
          "base_uri": "https://localhost:8080/"
        }
      },
      "execution_count": 1,
      "outputs": [
        {
          "output_type": "stream",
          "name": "stdout",
          "text": [
            "Mounted at /content/drive\n"
          ]
        }
      ]
    },
    {
      "cell_type": "code",
      "execution_count": null,
      "metadata": {
        "id": "NUiEXDPxHKZQ",
        "outputId": "7be3686a-66af-453e-f5ce-ee72a4700ed8"
      },
      "outputs": [
        {
          "name": "stdout",
          "output_type": "stream",
          "text": [
            "<module 'requests' from 'd:\\\\CS\\\\projects\\\\nlp-image-captioning\\\\.conda\\\\lib\\\\site-packages\\\\requests\\\\__init__.py'>\n"
          ]
        }
      ],
      "source": [
        "import requests\n",
        "print(requests)"
      ]
    },
    {
      "cell_type": "code",
      "execution_count": null,
      "metadata": {
        "id": "gjH1mCsmHKZR"
      },
      "outputs": [],
      "source": []
    }
  ],
  "metadata": {
    "kernelspec": {
      "display_name": "Python 3",
      "language": "python",
      "name": "python3"
    },
    "language_info": {
      "codemirror_mode": {
        "name": "ipython",
        "version": 3
      },
      "file_extension": ".py",
      "mimetype": "text/x-python",
      "name": "python",
      "nbconvert_exporter": "python",
      "pygments_lexer": "ipython3",
      "version": "3.9.16"
    },
    "orig_nbformat": 4,
    "vscode": {
      "interpreter": {
        "hash": "c7cdde67bd1df58aee8e05336b4c9e41dfb37650659bf34d4c10242d0898ac5a"
      }
    },
    "colab": {
      "provenance": []
    }
  },
  "nbformat": 4,
  "nbformat_minor": 0
}